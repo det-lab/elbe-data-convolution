{
 "cells": [
  {
   "cell_type": "code",
   "execution_count": null,
   "metadata": {},
   "outputs": [
    {
     "data": {
      "text/latex": [
       "$\\displaystyle \\frac{\\sqrt{2} \\left(- \\frac{\\sqrt{2} x φ^{2} \\sqrt{- φ^{2}} e^{- \\frac{E^{2}}{2 φ^{2}}}}{2 \\sqrt{\\pi} A^{5} \\sqrt{- \\frac{1}{φ^{2}}}} + \\frac{\\sqrt{2} x^{3} φ^{2} e^{- \\frac{E^{2}}{2 φ^{2}}}}{4 \\sqrt{\\pi} A^{5}} + \\frac{12 \\sqrt{2} B^{2} x φ^{2} \\sqrt{- φ^{2}} e^{- \\frac{E^{2}}{2 φ^{2}}}}{\\sqrt{\\pi} A^{5} \\sqrt{- \\frac{1}{φ^{2}}}} - \\frac{6 \\sqrt{2} B^{2} x^{3} φ^{2} e^{- \\frac{E^{2}}{2 φ^{2}}}}{\\sqrt{\\pi} A^{5}} - \\frac{4 \\sqrt{2} B^{4} x φ^{2} \\sqrt{- φ^{2}} e^{- \\frac{E^{2}}{2 φ^{2}}}}{\\sqrt{\\pi} A^{5} \\sqrt{- \\frac{1}{φ^{2}}}} + \\frac{2 \\sqrt{2} B^{4} x^{3} φ^{2} e^{- \\frac{E^{2}}{2 φ^{2}}}}{\\sqrt{\\pi} A^{5}} - \\frac{3 \\sqrt{2} B φ^{2} \\sqrt{- φ^{2}} e^{- \\frac{E^{2}}{2 φ^{2}}}}{2 \\sqrt{\\pi} A^{4} \\sqrt{- \\frac{1}{φ^{2}}}} + \\frac{9 \\sqrt{2} B x^{2} φ^{2} e^{- \\frac{E^{2}}{2 φ^{2}}}}{4 \\sqrt{\\pi} A^{4}} + \\frac{\\sqrt{2} B^{3} φ^{2} \\sqrt{- φ^{2}} e^{- \\frac{E^{2}}{2 φ^{2}}}}{\\sqrt{\\pi} A^{4} \\sqrt{- \\frac{1}{φ^{2}}}} - \\frac{3 \\sqrt{2} B^{3} x^{2} φ^{2} e^{- \\frac{E^{2}}{2 φ^{2}}}}{2 \\sqrt{\\pi} A^{4}} - \\frac{\\sqrt{2} x φ^{2} e^{- \\frac{E^{2}}{2 φ^{2}}}}{2 \\sqrt{\\pi} A^{3}} + \\frac{\\sqrt{2} B^{2} x φ^{2} e^{- \\frac{E^{2}}{2 φ^{2}}}}{\\sqrt{\\pi} A^{3}} - \\frac{\\sqrt{2} B φ^{2} e^{- \\frac{E^{2}}{2 φ^{2}}}}{2 \\sqrt{\\pi} A^{2}} + O\\left(E\\right)\\right)}{2 \\sqrt{\\pi} φ}$"
      ],
      "text/plain": [
       "<IPython.core.display.Math object>"
      ]
     },
     "metadata": {},
     "output_type": "display_data"
    },
    {
     "data": {
      "text/plain": [
       "'\\n#intergratedFunc = sm.integrate(simpleFunc, E)\\n\\n#intergratedFunc \\n\\ntaylorExpan = sm.series(gFunc,E,8,5)\\n\\n#simpleFunc * (4*sm.pi*sig0*sm.sqrt((dfPath**2*tof**2 + dTof**2 * fPath**2)/(fPath**2*tof**2)))\\n\\nevaulated = taylorExpan.subs({A:1, B:2, x: 8}).evalf()\\n\\ntaylorExpan\\n\\n#derivFunc = sm.Derivative(simpleFunc * (4*sm.pi*sig0*sm.sqrt((dfPath**2*tof**2 + dTof**2 * fPath**2)/(fPath**2*tof**2))))\\n#derivFunc\"\\n'"
      ]
     },
     "execution_count": 22,
     "metadata": {},
     "output_type": "execute_result"
    }
   ],
   "source": [
    "import sympy as sm\n",
    "from sympy import init_printing\n",
    "from IPython.display import display, Math\n",
    "init_printing()\n",
    "sig0, sig, E, x, A, B = sm.symbols(\"φ σ E x A B\")\n",
    "\n",
    "#dfPath, fPath, dTof, tof = sm.symbols(\"P p T t\")\n",
    "\n",
    "sigFunc = (A + B *(x-E))\n",
    "fFunc = sm.exp(-E**2/(2*sig0**2))/(sm.root((sm.pi*2),2)*sig0)\n",
    "\n",
    "gFunc = sm.exp(-(x-E)**2/(2*sigFunc**2)) / (sm.root((sm.pi*2),2)*sigFunc)\n",
    "\n",
    "gFuncFull = gFunc\n",
    "\n",
    "gFuncTaylor = sm.series(gFunc, E, x, 5)\n",
    "\n",
    "fullFunc = fFunc * gFuncTaylor\n",
    "\n",
    "intergratedFunc = sm.integrate(fullFunc, E)\n",
    "\n",
    "display(Math(sm.latex(intergratedFunc)))\n",
    "\n",
    "\n",
    "# trying new method instead of below\n",
    "\"\"\"\n",
    "#intergratedFunc = sm.integrate(simpleFunc, E)\n",
    "\n",
    "#intergratedFunc \n",
    "\n",
    "taylorExpan = sm.series(gFunc,E,8,5)\n",
    "\n",
    "#simpleFunc * (4*sm.pi*sig0*sm.sqrt((dfPath**2*tof**2 + dTof**2 * fPath**2)/(fPath**2*tof**2)))\n",
    "\n",
    "evaulated = taylorExpan.subs({A:1, B:2, x: 8}).evalf()\n",
    "\n",
    "taylorExpan\n",
    "\n",
    "#derivFunc = sm.Derivative(simpleFunc * (4*sm.pi*sig0*sm.sqrt((dfPath**2*tof**2 + dTof**2 * fPath**2)/(fPath**2*tof**2))))\n",
    "#derivFunc\"\n",
    "\"\"\""
   ]
  }
 ],
 "metadata": {
  "kernelspec": {
   "display_name": "Python 3",
   "language": "python",
   "name": "python3"
  },
  "language_info": {
   "codemirror_mode": {
    "name": "ipython",
    "version": 3
   },
   "file_extension": ".py",
   "mimetype": "text/x-python",
   "name": "python",
   "nbconvert_exporter": "python",
   "pygments_lexer": "ipython3",
   "version": "3.9.2"
  }
 },
 "nbformat": 4,
 "nbformat_minor": 2
}
